{
 "cells": [
  {
   "cell_type": "code",
   "execution_count": 1,
   "id": "8d1a4400-8297-4849-a7c4-4916cbe95201",
   "metadata": {},
   "outputs": [
    {
     "name": "stdout",
     "output_type": "stream",
     "text": [
      "300\n"
     ]
    }
   ],
   "source": [
    "a = 100\n",
    "b = 200\n",
    "c = a + b \n",
    "print(c)"
   ]
  },
  {
   "cell_type": "code",
   "execution_count": 1,
   "id": "691039c4-37e1-4375-a528-6770463f3cc7",
   "metadata": {},
   "outputs": [
    {
     "data": {
      "text/plain": [
       "'a는 100, b는 200 이므로 a+b인 c는 300이다'"
      ]
     },
     "execution_count": 1,
     "metadata": {},
     "output_type": "execute_result"
    }
   ],
   "source": [
    "\"a는 100, b는 200 이므로 a+b인 c는 300이다\""
   ]
  },
  {
   "cell_type": "code",
   "execution_count": null,
   "id": "c1a73278-355d-43d3-a2f1-cedc52d88a73",
   "metadata": {},
   "outputs": [],
   "source": []
  }
 ],
 "metadata": {
  "kernelspec": {
   "display_name": "Python 3",
   "language": "python",
   "name": "python3"
  },
  "language_info": {
   "codemirror_mode": {
    "name": "ipython",
    "version": 3
   },
   "file_extension": ".py",
   "mimetype": "text/x-python",
   "name": "python",
   "nbconvert_exporter": "python",
   "pygments_lexer": "ipython3",
   "version": "3.8.10"
  }
 },
 "nbformat": 4,
 "nbformat_minor": 5
}
